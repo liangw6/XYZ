{
 "nbformat": 4,
 "nbformat_minor": 2,
 "metadata": {
  "language_info": {
   "name": "python",
   "codemirror_mode": {
    "name": "ipython",
    "version": 3
   },
   "version": "3.6.9-final"
  },
  "orig_nbformat": 2,
  "file_extension": ".py",
  "mimetype": "text/x-python",
  "name": "python",
  "npconvert_exporter": "python",
  "pygments_lexer": "ipython3",
  "version": 3,
  "kernelspec": {
   "name": "python36964bit6408c2d109594dcb8ac6cdc72f57765b",
   "display_name": "Python 3.6.9 64-bit"
  }
 },
 "cells": [
  {
   "cell_type": "code",
   "execution_count": 5,
   "metadata": {},
   "outputs": [],
   "source": [
    "import plotly.graph_objects as go\n",
    "from itertools import product\n",
    "import networkx as nx\n",
    "from matplotlib import pyplot as plt\n",
    "\n",
    "# G = nx.random_geometric_graph(200, 0.125)"
   ]
  },
  {
   "cell_type": "code",
   "execution_count": 6,
   "metadata": {},
   "outputs": [
    {
     "name": "stdout",
     "output_type": "stream",
     "text": "defaultdict(<class 'set'>, {'Google.com': {'Google'}, 'Youtube.com': {'Google'}, 'Amazon.com': {'Amazon', 'Facebook', 'Twitter', 'OpenX'}, 'Facebook.com': {'Facebook', 'Google'}, 'Yahoo.com': {'Facebook', 'comScore', 'Rubicon Project', 'PubMatic', 'Yahoo', 'Pubmatic', 'Index Exchange', 'Google', 'AppNexus', 'Amazon', 'Verizon'}, 'Reddit.com': {'Reddit', 'comScore', 'Flashtalking', 'Quantcast', 'A.A.Exchange', 'Kantar', 'Acxiom', 'Google', 'Yahoo', 'Amazon', 'AAX', 'A.A.Ex.'}, 'Ebay.com': {'Ebay', 'eBay', 'ThreatMatrix', 'Google', 'ThreatMetrix'}, 'Netflix.com': {'Facebook', 'Google', 'Netflix'}, 'Live.com': {'Optimizely', 'Microsoft'}, 'Twitch.tv': {'Salesforce', 'Branch', 'comScore', 'Branch Metrics', 'Google', 'Amazon', 'Nielsen'}, 'Myshopify.com': {'Nielsen'}, 'Instructure.com': {'Facebook', 'Marketo', 'Akamai', 'Twitter', 'Lucky Orange', 'DemandBase', 'Trade Desk', 'Demandbase', 'Wingify', 'LiveChat', 'Beeswax', 'Crazy Egg', 'Microsoft', 'Wistia', 'AppDynamics', 'New Relic', 'Triblio', 'Terminus', 'Acquia', 'Cloudflare', 'Google', 'AppNexus', 'Gandi'}, 'Cnn.com': {'SourcePoint', 'Facebook', 'Appnexus\\n', 'jsdelivr.net', 'IndexExchange', 'Segment', 'Amazon', 'BounceX', 'Criteo', 'comScore', 'Twitter', 'Sourcepoint', 'jsdelivr', 'Rubicon', 'Acxiom', 'Trade Desk', 'Nielsen', 'Optimizely', 'Usabilla', 'Bounce Exchange', 'trueAnthem', 'Beeswax', 'Index Exchange', 'Microsoft', 'Outbrain', 'ChartBeat', 'Twitter\\n', 'LendingTree (?)', 'Salesforce', 'Dentsu Aigis', 'Rubicon Project', 'Beemray\\n', 'Adobe', 'Cloudflare', 'CNN', 'Google', 'AppNexus', 'Zeta Global', 'Gandi', 'Integral Ad Science', 'Usabilla\\n', 'Turner'}, 'Espn.com': {'Disney', 'comScore', 'Twitter', 'Adobe', 'Disney/CNN', 'Google', 'Amazon', 'Ensighten', 'Cintnetworks', 'Oracle', 'ChartBeat', 'Nielsen'}, 'Instagram.com': {'Facebook'}, 'Linkedin.com': {'Facebook', 'comScore', 'Adobe', 'Microsoft', 'Google', 'ScoreCard'}, 'Chase.com': {'Facebook', 'Twitter', 'Adobe', 'Acxiom', 'Microsoft', 'Google', 'LiveRamp', 'Chase'}, 'Tmall.com': {'Alibaba', 'MarkMonitor'}, 'Dropbox.com': {'Salesforce', 'Facebook', 'Sizmek', 'Criteo', 'Twitter', 'Microsoft', 'Google', 'MarkMonitor', 'Verizon', 'Trade Desk', 'Dropbox'}, 'Twitter.com': {'Google'}, 'Microsoft.com': {'Akamai', 'Microsoft', 'Adobe', 'ClickTale'}, 'Nytimes.com': {'Optimizely', 'comScore', 'Media.net', 'NYTimes', 'Adobe', 'Chartbeat', 'Microsoft', 'Google', 'Amazon', 'ChartBeat', 'Oracle', 'DataDome', 'Nielsen'}, 'Apple.com': {'Adobe', 'Apple'}, 'Intuit.com': {'Facebook', 'Optimizely', 'Decibel Insight', 'Twitter', 'TrustArc', 'Adobe', 'Ensighten', 'Google', 'Amazon', 'AppDynamics', 'Intuit'}, 'Adobe.com': {'Facebook', 'Demandbase', 'Evidon', 'iPerceptions', 'Flashtalking', 'Twitter', 'Adobe', 'Microsoft', 'Google', 'OpenX', 'Akamai', 'MediaMath', 'WellsFargo'}, 'Zillow.com': {'Salesforce', 'Facebook', 'comScore', 'Twitter', 'Trade Desk', 'Microsoft', 'Google', 'Zeta Global', 'MediaMath', 'Kenshoo'}, 'Imdb.com': {'comScore', 'Google', 'Amazon'}, 'Wellsfargo.com': {'Wellsfargo', 'Google', 'Adobe', 'Facebook'}, 'Force.com': {'Salesforce', 'Optimizely', 'Demandbase', 'Twitter', 'Adobe', 'Microsoft', 'Google', 'DemandBase', 'New Relic'}, 'Spotify.com': {'Facebook', 'VisualIQ', 'comScore', 'Twitter', 'Adobe', 'Hotjar', 'Snapchat', 'Hot Jar', 'Acxiom', 'Google', 'Fastly', 'Pinterest', 'Telenor', 'Oracle', 'Trade Desk', 'Nielsen'}, 'Indeed.com': {'comScore', 'Google', 'Indeed'}, 'Aliexpress.com': {'Facebook', 'Optimizely', 'Criteo', 'Google', 'Akamai(?)', 'MarkMonitor', 'Akamai', 'Taobao', 'Alibaba', 'New Relic'}, 'Walmart.com': {'Facebook', 'VisualIQ', 'Criteo', 'Exponential Interactive', 'Yahoo', 'Microsoft', 'Google', 'MarkMonitor', 'AppNexus', 'Pinterest', 'Verizon', 'Walmart'}, 'Msn.com': {'Yahoo', 'Neustar', 'Akamai', 'MediaMath', 'PulsePoint', 'LockerDome', 'comScore', 'Acxiom', 'Zemanta', 'LockerDome(?)', 'Taboola', 'Microsoft', 'IPONWEB', 'TripleLift', 'Apple', 'Bidswitch', 'Outbrain', 'Storygize', 'Google', 'AppNexus', 'Media.net', 'ChartBeat', 'Verizon'}, 'Hulu.com': {'Salesforce', 'QQ.com', 'Facebook', 'Evidon', 'Twitter', 'Trade Desk', 'TvSquared', 'Hotjar', 'Snapchat', 'Yahoo', 'Acxiom', 'Neustar', 'Microsoft', 'Tealium', 'Google', 'Hot Jar', 'Akamai', 'Pinterest', 'Verizon', 'New Relic'}, 'Sohu.com': {'Sohu (Chinese)', 'Tanx', 'Baidu', 'adv-sv-stat.focus.cn/', 'Sohu', 'OptAim', 'Optaim (Chinese)'}, 'Paypal.com': {'eBay', 'Google', 'Facebook'}, 'Amazonaws.com': {'Microsoft', 'Adobe', 'Google', 'Amazon'}, 'Stackoverflow.com': {'comScore', 'Google', 'Quantcast'}, 'Imgur.com': {'Videoplayerhub.com', 'Facebook', 'comScore', 'Quantcast', 'Google', 'Smart AdServer', 'Amazon', 'Imgur', 'Amplitude', 'Smart Adserver'}, 'Salesforce.com': {'Salesforce', 'Demandbase', 'Twitter', 'Adobe', 'Microsoft', 'Google', 'DemandBase'}, 'Livejasmin.com': {'XXX'}, 'Bongacams.com': {'XXX'}, 'Pornhub.com': {'XXX'}, 'Office.com': {'Microsoft', 'Akamai'}, 'Qq.com': {'Xtgreat.com (?)', 'Microsoft', 'ReachMax', 'Tencent'}})\n"
    }
   ],
   "source": [
    "import yaml\n",
    "with open('website_by_type.yaml', 'r') as stream:\n",
    "    website_by_type = yaml.safe_load(stream)\n",
    "\n",
    "import pickle\n",
    "with open('web2tracker_domains.pkl', 'rb') as handle:\n",
    "    web2domain = pickle.load(handle)\n",
    "print(web2domain)"
   ]
  },
  {
   "cell_type": "code",
   "execution_count": 21,
   "metadata": {},
   "outputs": [
    {
     "name": "stdout",
     "output_type": "stream",
     "text": "1 {'Facebook', 'Demandbase', 'Evidon', 'iPerceptions', 'Flashtalking', 'Twitter', 'Adobe', 'Microsoft', 'Google', 'OpenX', 'Akamai', 'MediaMath', 'WellsFargo'}\n2 {'Facebook', 'VisualIQ', 'comScore', 'Twitter', 'Adobe', 'Hotjar', 'Snapchat', 'Hot Jar', 'Acxiom', 'Google', 'Fastly', 'Pinterest', 'Telenor', 'Oracle', 'Trade Desk', 'Nielsen'}\n"
    }
   ],
   "source": [
    "print('1', web2domain['Adobe.com'])\n",
    "print('2', web2domain['Spotify.com'])"
   ]
  },
  {
   "cell_type": "code",
   "execution_count": 18,
   "metadata": {},
   "outputs": [
    {
     "name": "stdout",
     "output_type": "stream",
     "text": "[('Amazon.com', 'Facebook.com'), ('Amazon.com', 'Twitter.com'), ('Amazon.com', 'Yahoo.com'), ('Amazon.com', 'Reddit.com'), ('Amazon.com', 'Twitch.tv'), ('Amazon.com', 'Cnn.com'), ('Amazon.com', 'Espn.com'), ('Amazon.com', 'Nytimes.com'), ('Amazon.com', 'Intuit.com'), ('Amazon.com', 'Imdb.com'), ('Amazon.com', 'Amazonaws.com'), ('Amazon.com', 'Imgur.com'), ('Facebook.com', 'Yahoo.com'), ('Facebook.com', 'Netflix.com'), ('Facebook.com', 'Instructure.com'), ('Facebook.com', 'Cnn.com'), ('Facebook.com', 'Instagram.com'), ('Facebook.com', 'Linkedin.com'), ('Facebook.com', 'Chase.com'), ('Facebook.com', 'Dropbox.com'), ('Facebook.com', 'Intuit.com'), ('Facebook.com', 'Adobe.com'), ('Facebook.com', 'Zillow.com'), ('Facebook.com', 'Wellsfargo.com'), ('Facebook.com', 'Spotify.com'), ('Facebook.com', 'Aliexpress.com'), ('Facebook.com', 'Walmart.com'), ('Facebook.com', 'Hulu.com'), ('Facebook.com', 'Paypal.com'), ('Facebook.com', 'Imgur.com'), ('Twitter.com', 'Instructure.com'), ('Twitter.com', 'Cnn.com'), ('Twitter.com', 'Espn.com'), ('Twitter.com', 'Chase.com'), ('Twitter.com', 'Dropbox.com'), ('Twitter.com', 'Intuit.com'), ('Twitter.com', 'Adobe.com'), ('Twitter.com', 'Zillow.com'), ('Twitter.com', 'Force.com'), ('Twitter.com', 'Spotify.com'), ('Twitter.com', 'Hulu.com'), ('Twitter.com', 'Salesforce.com'), ('Yahoo.com', 'Reddit.com'), ('Yahoo.com', 'Walmart.com'), ('Yahoo.com', 'Msn.com'), ('Yahoo.com', 'Hulu.com'), ('Live.com', 'Microsoft.com'), ('Microsoft.com', 'Instructure.com'), ('Microsoft.com', 'Cnn.com'), ('Microsoft.com', 'Linkedin.com'), ('Microsoft.com', 'Chase.com'), ('Microsoft.com', 'Dropbox.com'), ('Microsoft.com', 'Adobe.com'), ('Microsoft.com', 'Nytimes.com'), ('Microsoft.com', 'Zillow.com'), ('Microsoft.com', 'Force.com'), ('Microsoft.com', 'Walmart.com'), ('Microsoft.com', 'Msn.com'), ('Microsoft.com', 'Hulu.com'), ('Microsoft.com', 'Amazonaws.com'), ('Microsoft.com', 'Salesforce.com'), ('Microsoft.com', 'Office.com'), ('Microsoft.com', 'Qq.com'), ('Twitch.tv', 'Salesforce.com'), ('Salesforce.com', 'Cnn.com'), ('Salesforce.com', 'Dropbox.com'), ('Salesforce.com', 'Zillow.com'), ('Salesforce.com', 'Force.com'), ('Salesforce.com', 'Hulu.com'), ('Salesforce.com', 'Adobe.com'), ('Cnn.com', 'Adobe.com'), ('Adobe.com', 'Espn.com'), ('Adobe.com', 'Linkedin.com'), ('Adobe.com', 'Chase.com'), ('Adobe.com', 'Nytimes.com'), ('Adobe.com', 'Apple.com'), ('Adobe.com', 'Intuit.com'), ('Adobe.com', 'Wellsfargo.com'), ('Adobe.com', 'Force.com'), ('Adobe.com', 'Spotify.com'), ('Adobe.com', 'Amazonaws.com'), ('Apple.com', 'Msn.com')]\n"
    }
   ],
   "source": [
    "# website_white_list = \"\" # = set(website_by_type[\"News\"])\n",
    "website_black_list = {\"Google.com\"}\n",
    "\n",
    "G = nx.Graph()\n",
    "for x in web2domain.keys():\n",
    "    for y in web2domain[x]:\n",
    "        y_domain_name = y + '.com' if '.com' not in y else y\n",
    "        if y_domain_name != x and y_domain_name in web2domain.keys() and y_domain_name not in website_black_list:\n",
    "            G.add_node(x)\n",
    "            G.add_node(y_domain_name)\n",
    "            G.add_edge(x, y_domain_name)\n",
    "\n",
    "# nx.draw(G, with_labels=True)\n",
    "# plt.show()\n",
    "# plt.savefig(\"preliminary_figure.png\")\n",
    "pos = nx.random_layout(G)\n",
    "# pos\n",
    "print(G.edges)"
   ]
  },
  {
   "cell_type": "code",
   "execution_count": 15,
   "metadata": {},
   "outputs": [],
   "source": [
    "edge_x = []\n",
    "edge_y = []\n",
    "for edge in G.edges():\n",
    "    x0, y0 = pos[edge[0]]\n",
    "    x1, y1 = pos[edge[1]]\n",
    "    edge_x.append(x0)\n",
    "    edge_x.append(x1)\n",
    "    edge_x.append(None)\n",
    "    edge_y.append(y0)\n",
    "    edge_y.append(y1)\n",
    "    edge_y.append(None)\n",
    "\n",
    "edge_trace = go.Scatter(\n",
    "    x=edge_x, y=edge_y,\n",
    "    line=dict(width=0.5, color='#888'),\n",
    "    hoverinfo='none',\n",
    "    mode='lines')\n",
    "\n",
    "node_x = []\n",
    "node_y = []\n",
    "for node_name in pos.keys():\n",
    "    x, y = pos[node_name]\n",
    "    node_x.append(x)\n",
    "    node_y.append(y)\n",
    "\n",
    "node_trace = go.Scatter(\n",
    "    x=node_x, y=node_y,\n",
    "    mode='markers+text',\n",
    "    hoverinfo='text',\n",
    "    marker=dict(\n",
    "        showscale=True,\n",
    "        # colorscale options\n",
    "        #'Greys' | 'YlGnBu' | 'Greens' | 'YlOrRd' | 'Bluered' | 'RdBu' |\n",
    "        #'Reds' | 'Blues' | 'Picnic' | 'Rainbow' | 'Portland' | 'Jet' |\n",
    "        #'Hot' | 'Blackbody' | 'Earth' | 'Electric' | 'Viridis' |\n",
    "        colorscale='YlGnBu',\n",
    "        reversescale=True,\n",
    "        color=[],\n",
    "        size=10,\n",
    "        colorbar=dict(\n",
    "            thickness=15,\n",
    "            title='Node Connections',\n",
    "            xanchor='left',\n",
    "            titleside='right'\n",
    "        ),\n",
    "        line_width=2),\n",
    "    name=\"marker and text\",\n",
    "    text=list(pos.keys()),\n",
    "    textposition=\"bottom center\")\n"
   ]
  },
  {
   "cell_type": "code",
   "execution_count": 16,
   "metadata": {},
   "outputs": [],
   "source": [
    "node_adjacencies = []\n",
    "node_text = []\n",
    "for node, adjacencies in enumerate(G.adjacency()):\n",
    "    node_adjacencies.append(len(adjacencies[1]))\n",
    "    node_text.append('# of connections: '+str(len(adjacencies[1])))\n",
    "\n",
    "node_trace.marker.color = node_adjacencies\n",
    "# node_trace.text = node_text"
   ]
  },
  {
   "cell_type": "code",
   "execution_count": 17,
   "metadata": {},
   "outputs": [
    {
     "data": {
      "application/vnd.plotly.v1+json": {
       "config": {
        "plotlyServerURL": "https://plot.ly"
       },
       "data": [
        {
         "hoverinfo": "none",
         "line": {
          "color": "#888",
          "width": 0.5
         },
         "mode": "lines",
         "type": "scatter",
         "x": [
          0.4539651572704315,
          0.35868901014328003,
          null,
          0.4539651572704315,
          0.4863576292991638,
          null,
          0.4539651572704315,
          0.6422213912010193,
          null,
          0.4539651572704315,
          0.6786999106407166,
          null,
          0.4539651572704315,
          0.024471022188663483,
          null,
          0.4539651572704315,
          0.28789716958999634,
          null,
          0.4539651572704315,
          0.5986291170120239,
          null,
          0.4539651572704315,
          0.9752531051635742,
          null,
          0.4539651572704315,
          0.8918620944023132,
          null,
          0.4539651572704315,
          0.6629682779312134,
          null,
          0.4539651572704315,
          0.3415033519268036,
          null,
          0.4539651572704315,
          0.2689216732978821,
          null,
          0.35868901014328003,
          0.6422213912010193,
          null,
          0.35868901014328003,
          0.2835274040699005,
          null,
          0.35868901014328003,
          0.17437992990016937,
          null,
          0.35868901014328003,
          0.28789716958999634,
          null,
          0.35868901014328003,
          0.9769601821899414,
          null,
          0.35868901014328003,
          0.020176729187369347,
          null,
          0.35868901014328003,
          0.8855687975883484,
          null,
          0.35868901014328003,
          0.7081657648086548,
          null,
          0.35868901014328003,
          0.8918620944023132,
          null,
          0.35868901014328003,
          0.1187220886349678,
          null,
          0.35868901014328003,
          0.8949244022369385,
          null,
          0.35868901014328003,
          0.7939938902854919,
          null,
          0.35868901014328003,
          0.9971401691436768,
          null,
          0.35868901014328003,
          0.8192570209503174,
          null,
          0.35868901014328003,
          0.17550472915172577,
          null,
          0.35868901014328003,
          0.38835427165031433,
          null,
          0.35868901014328003,
          0.2065272033214569,
          null,
          0.35868901014328003,
          0.2689216732978821,
          null,
          0.4863576292991638,
          0.17437992990016937,
          null,
          0.4863576292991638,
          0.28789716958999634,
          null,
          0.4863576292991638,
          0.5986291170120239,
          null,
          0.4863576292991638,
          0.8855687975883484,
          null,
          0.4863576292991638,
          0.7081657648086548,
          null,
          0.4863576292991638,
          0.8918620944023132,
          null,
          0.4863576292991638,
          0.1187220886349678,
          null,
          0.4863576292991638,
          0.8949244022369385,
          null,
          0.4863576292991638,
          0.9287805557250977,
          null,
          0.4863576292991638,
          0.9971401691436768,
          null,
          0.4863576292991638,
          0.38835427165031433,
          null,
          0.4863576292991638,
          0.5510689616203308,
          null,
          0.6422213912010193,
          0.6786999106407166,
          null,
          0.6422213912010193,
          0.17550472915172577,
          null,
          0.6422213912010193,
          0.5907683968544006,
          null,
          0.6422213912010193,
          0.38835427165031433,
          null,
          0.9047763347625732,
          0.3434070646762848,
          null,
          0.3434070646762848,
          0.17437992990016937,
          null,
          0.3434070646762848,
          0.28789716958999634,
          null,
          0.3434070646762848,
          0.020176729187369347,
          null,
          0.3434070646762848,
          0.8855687975883484,
          null,
          0.3434070646762848,
          0.7081657648086548,
          null,
          0.3434070646762848,
          0.1187220886349678,
          null,
          0.3434070646762848,
          0.9752531051635742,
          null,
          0.3434070646762848,
          0.8949244022369385,
          null,
          0.3434070646762848,
          0.9287805557250977,
          null,
          0.3434070646762848,
          0.17550472915172577,
          null,
          0.3434070646762848,
          0.5907683968544006,
          null,
          0.3434070646762848,
          0.38835427165031433,
          null,
          0.3434070646762848,
          0.3415033519268036,
          null,
          0.3434070646762848,
          0.5510689616203308,
          null,
          0.3434070646762848,
          0.7418973445892334,
          null,
          0.3434070646762848,
          0.6653962731361389,
          null,
          0.024471022188663483,
          0.5510689616203308,
          null,
          0.5510689616203308,
          0.28789716958999634,
          null,
          0.5510689616203308,
          0.7081657648086548,
          null,
          0.5510689616203308,
          0.8949244022369385,
          null,
          0.5510689616203308,
          0.9287805557250977,
          null,
          0.5510689616203308,
          0.38835427165031433,
          null,
          0.5510689616203308,
          0.1187220886349678,
          null,
          0.28789716958999634,
          0.1187220886349678,
          null,
          0.1187220886349678,
          0.5986291170120239,
          null,
          0.1187220886349678,
          0.020176729187369347,
          null,
          0.1187220886349678,
          0.8855687975883484,
          null,
          0.1187220886349678,
          0.9752531051635742,
          null,
          0.1187220886349678,
          0.609072208404541,
          null,
          0.1187220886349678,
          0.8918620944023132,
          null,
          0.1187220886349678,
          0.7939938902854919,
          null,
          0.1187220886349678,
          0.9287805557250977,
          null,
          0.1187220886349678,
          0.9971401691436768,
          null,
          0.1187220886349678,
          0.3415033519268036,
          null,
          0.609072208404541,
          0.5907683968544006,
          null
         ],
         "y": [
          0.2611010670661926,
          0.935542106628418,
          null,
          0.2611010670661926,
          0.02874939516186714,
          null,
          0.2611010670661926,
          0.2059546262025833,
          null,
          0.2611010670661926,
          0.4310685098171234,
          null,
          0.2611010670661926,
          0.5627226233482361,
          null,
          0.2611010670661926,
          0.14639310538768768,
          null,
          0.2611010670661926,
          0.5523566007614136,
          null,
          0.2611010670661926,
          0.44244590401649475,
          null,
          0.2611010670661926,
          0.9006482362747192,
          null,
          0.2611010670661926,
          0.9709144234657288,
          null,
          0.2611010670661926,
          0.28020408749580383,
          null,
          0.2611010670661926,
          0.44582536816596985,
          null,
          0.935542106628418,
          0.2059546262025833,
          null,
          0.935542106628418,
          0.5516600608825684,
          null,
          0.935542106628418,
          0.034655679017305374,
          null,
          0.935542106628418,
          0.14639310538768768,
          null,
          0.935542106628418,
          0.547546923160553,
          null,
          0.935542106628418,
          0.8287034034729004,
          null,
          0.935542106628418,
          0.26259443163871765,
          null,
          0.935542106628418,
          0.5973027944564819,
          null,
          0.935542106628418,
          0.9006482362747192,
          null,
          0.935542106628418,
          0.9360126852989197,
          null,
          0.935542106628418,
          0.11163334548473358,
          null,
          0.935542106628418,
          0.34551355242729187,
          null,
          0.935542106628418,
          0.2246914803981781,
          null,
          0.935542106628418,
          0.6903546452522278,
          null,
          0.935542106628418,
          0.2697586119174957,
          null,
          0.935542106628418,
          0.03172231838107109,
          null,
          0.935542106628418,
          0.038490310311317444,
          null,
          0.935542106628418,
          0.44582536816596985,
          null,
          0.02874939516186714,
          0.034655679017305374,
          null,
          0.02874939516186714,
          0.14639310538768768,
          null,
          0.02874939516186714,
          0.5523566007614136,
          null,
          0.02874939516186714,
          0.26259443163871765,
          null,
          0.02874939516186714,
          0.5973027944564819,
          null,
          0.02874939516186714,
          0.9006482362747192,
          null,
          0.02874939516186714,
          0.9360126852989197,
          null,
          0.02874939516186714,
          0.11163334548473358,
          null,
          0.02874939516186714,
          0.38180845975875854,
          null,
          0.02874939516186714,
          0.2246914803981781,
          null,
          0.02874939516186714,
          0.03172231838107109,
          null,
          0.02874939516186714,
          0.06307000666856766,
          null,
          0.2059546262025833,
          0.4310685098171234,
          null,
          0.2059546262025833,
          0.2697586119174957,
          null,
          0.2059546262025833,
          0.240462064743042,
          null,
          0.2059546262025833,
          0.03172231838107109,
          null,
          0.5694066882133484,
          0.1347281038761139,
          null,
          0.1347281038761139,
          0.034655679017305374,
          null,
          0.1347281038761139,
          0.14639310538768768,
          null,
          0.1347281038761139,
          0.8287034034729004,
          null,
          0.1347281038761139,
          0.26259443163871765,
          null,
          0.1347281038761139,
          0.5973027944564819,
          null,
          0.1347281038761139,
          0.9360126852989197,
          null,
          0.1347281038761139,
          0.44244590401649475,
          null,
          0.1347281038761139,
          0.11163334548473358,
          null,
          0.1347281038761139,
          0.38180845975875854,
          null,
          0.1347281038761139,
          0.2697586119174957,
          null,
          0.1347281038761139,
          0.240462064743042,
          null,
          0.1347281038761139,
          0.03172231838107109,
          null,
          0.1347281038761139,
          0.28020408749580383,
          null,
          0.1347281038761139,
          0.06307000666856766,
          null,
          0.1347281038761139,
          0.4791271686553955,
          null,
          0.1347281038761139,
          0.9276602268218994,
          null,
          0.5627226233482361,
          0.06307000666856766,
          null,
          0.06307000666856766,
          0.14639310538768768,
          null,
          0.06307000666856766,
          0.5973027944564819,
          null,
          0.06307000666856766,
          0.11163334548473358,
          null,
          0.06307000666856766,
          0.38180845975875854,
          null,
          0.06307000666856766,
          0.03172231838107109,
          null,
          0.06307000666856766,
          0.9360126852989197,
          null,
          0.14639310538768768,
          0.9360126852989197,
          null,
          0.9360126852989197,
          0.5523566007614136,
          null,
          0.9360126852989197,
          0.8287034034729004,
          null,
          0.9360126852989197,
          0.26259443163871765,
          null,
          0.9360126852989197,
          0.44244590401649475,
          null,
          0.9360126852989197,
          0.4714362919330597,
          null,
          0.9360126852989197,
          0.9006482362747192,
          null,
          0.9360126852989197,
          0.34551355242729187,
          null,
          0.9360126852989197,
          0.38180845975875854,
          null,
          0.9360126852989197,
          0.2246914803981781,
          null,
          0.9360126852989197,
          0.28020408749580383,
          null,
          0.4714362919330597,
          0.240462064743042,
          null
         ]
        },
        {
         "hoverinfo": "text",
         "marker": {
          "color": [
           12,
           19,
           13,
           6,
           2,
           1,
           1,
           17,
           2,
           9,
           3,
           6,
           15,
           3,
           1,
           3,
           4,
           4,
           3,
           2,
           4,
           4,
           1,
           2,
           4,
           3,
           1,
           3,
           3,
           5,
           1,
           3,
           2,
           1,
           1
          ],
          "colorbar": {
           "thickness": 15,
           "title": {
            "side": "right",
            "text": "Node Connections"
           },
           "xanchor": "left"
          },
          "colorscale": [
           [
            0,
            "rgb(255,255,217)"
           ],
           [
            0.125,
            "rgb(237,248,177)"
           ],
           [
            0.25,
            "rgb(199,233,180)"
           ],
           [
            0.375,
            "rgb(127,205,187)"
           ],
           [
            0.5,
            "rgb(65,182,196)"
           ],
           [
            0.625,
            "rgb(29,145,192)"
           ],
           [
            0.75,
            "rgb(34,94,168)"
           ],
           [
            0.875,
            "rgb(37,52,148)"
           ],
           [
            1,
            "rgb(8,29,88)"
           ]
          ],
          "line": {
           "width": 2
          },
          "reversescale": true,
          "showscale": true,
          "size": 10
         },
         "mode": "markers+text",
         "name": "marker and text",
         "text": [
          "Amazon.com",
          "Facebook.com",
          "Twitter.com",
          "Yahoo.com",
          "Reddit.com",
          "Netflix.com",
          "Live.com",
          "Microsoft.com",
          "Twitch.tv",
          "Salesforce.com",
          "Instructure.com",
          "Cnn.com",
          "Adobe.com",
          "Espn.com",
          "Instagram.com",
          "Linkedin.com",
          "Chase.com",
          "Dropbox.com",
          "Nytimes.com",
          "Apple.com",
          "Intuit.com",
          "Zillow.com",
          "Imdb.com",
          "Wellsfargo.com",
          "Force.com",
          "Spotify.com",
          "Aliexpress.com",
          "Walmart.com",
          "Msn.com",
          "Hulu.com",
          "Paypal.com",
          "Amazonaws.com",
          "Imgur.com",
          "Office.com",
          "Qq.com"
         ],
         "textposition": "bottom center",
         "type": "scatter",
         "x": [
          0.4539651572704315,
          0.35868901014328003,
          0.4863576292991638,
          0.6422213912010193,
          0.6786999106407166,
          0.2835274040699005,
          0.9047763347625732,
          0.3434070646762848,
          0.024471022188663483,
          0.5510689616203308,
          0.17437992990016937,
          0.28789716958999634,
          0.1187220886349678,
          0.5986291170120239,
          0.9769601821899414,
          0.020176729187369347,
          0.8855687975883484,
          0.7081657648086548,
          0.9752531051635742,
          0.609072208404541,
          0.8918620944023132,
          0.8949244022369385,
          0.6629682779312134,
          0.7939938902854919,
          0.9287805557250977,
          0.9971401691436768,
          0.8192570209503174,
          0.17550472915172577,
          0.5907683968544006,
          0.38835427165031433,
          0.2065272033214569,
          0.3415033519268036,
          0.2689216732978821,
          0.7418973445892334,
          0.6653962731361389
         ],
         "y": [
          0.2611010670661926,
          0.935542106628418,
          0.02874939516186714,
          0.2059546262025833,
          0.4310685098171234,
          0.5516600608825684,
          0.5694066882133484,
          0.1347281038761139,
          0.5627226233482361,
          0.06307000666856766,
          0.034655679017305374,
          0.14639310538768768,
          0.9360126852989197,
          0.5523566007614136,
          0.547546923160553,
          0.8287034034729004,
          0.26259443163871765,
          0.5973027944564819,
          0.44244590401649475,
          0.4714362919330597,
          0.9006482362747192,
          0.11163334548473358,
          0.9709144234657288,
          0.34551355242729187,
          0.38180845975875854,
          0.2246914803981781,
          0.6903546452522278,
          0.2697586119174957,
          0.240462064743042,
          0.03172231838107109,
          0.038490310311317444,
          0.28020408749580383,
          0.44582536816596985,
          0.4791271686553955,
          0.9276602268218994
         ]
        }
       ],
       "layout": {
        "hovermode": "closest",
        "margin": {
         "b": 20,
         "l": 5,
         "r": 5,
         "t": 40
        },
        "showlegend": false,
        "template": {
         "data": {
          "bar": [
           {
            "error_x": {
             "color": "#2a3f5f"
            },
            "error_y": {
             "color": "#2a3f5f"
            },
            "marker": {
             "line": {
              "color": "#E5ECF6",
              "width": 0.5
             }
            },
            "type": "bar"
           }
          ],
          "barpolar": [
           {
            "marker": {
             "line": {
              "color": "#E5ECF6",
              "width": 0.5
             }
            },
            "type": "barpolar"
           }
          ],
          "carpet": [
           {
            "aaxis": {
             "endlinecolor": "#2a3f5f",
             "gridcolor": "white",
             "linecolor": "white",
             "minorgridcolor": "white",
             "startlinecolor": "#2a3f5f"
            },
            "baxis": {
             "endlinecolor": "#2a3f5f",
             "gridcolor": "white",
             "linecolor": "white",
             "minorgridcolor": "white",
             "startlinecolor": "#2a3f5f"
            },
            "type": "carpet"
           }
          ],
          "choropleth": [
           {
            "colorbar": {
             "outlinewidth": 0,
             "ticks": ""
            },
            "type": "choropleth"
           }
          ],
          "contour": [
           {
            "colorbar": {
             "outlinewidth": 0,
             "ticks": ""
            },
            "colorscale": [
             [
              0,
              "#0d0887"
             ],
             [
              0.1111111111111111,
              "#46039f"
             ],
             [
              0.2222222222222222,
              "#7201a8"
             ],
             [
              0.3333333333333333,
              "#9c179e"
             ],
             [
              0.4444444444444444,
              "#bd3786"
             ],
             [
              0.5555555555555556,
              "#d8576b"
             ],
             [
              0.6666666666666666,
              "#ed7953"
             ],
             [
              0.7777777777777778,
              "#fb9f3a"
             ],
             [
              0.8888888888888888,
              "#fdca26"
             ],
             [
              1,
              "#f0f921"
             ]
            ],
            "type": "contour"
           }
          ],
          "contourcarpet": [
           {
            "colorbar": {
             "outlinewidth": 0,
             "ticks": ""
            },
            "type": "contourcarpet"
           }
          ],
          "heatmap": [
           {
            "colorbar": {
             "outlinewidth": 0,
             "ticks": ""
            },
            "colorscale": [
             [
              0,
              "#0d0887"
             ],
             [
              0.1111111111111111,
              "#46039f"
             ],
             [
              0.2222222222222222,
              "#7201a8"
             ],
             [
              0.3333333333333333,
              "#9c179e"
             ],
             [
              0.4444444444444444,
              "#bd3786"
             ],
             [
              0.5555555555555556,
              "#d8576b"
             ],
             [
              0.6666666666666666,
              "#ed7953"
             ],
             [
              0.7777777777777778,
              "#fb9f3a"
             ],
             [
              0.8888888888888888,
              "#fdca26"
             ],
             [
              1,
              "#f0f921"
             ]
            ],
            "type": "heatmap"
           }
          ],
          "heatmapgl": [
           {
            "colorbar": {
             "outlinewidth": 0,
             "ticks": ""
            },
            "colorscale": [
             [
              0,
              "#0d0887"
             ],
             [
              0.1111111111111111,
              "#46039f"
             ],
             [
              0.2222222222222222,
              "#7201a8"
             ],
             [
              0.3333333333333333,
              "#9c179e"
             ],
             [
              0.4444444444444444,
              "#bd3786"
             ],
             [
              0.5555555555555556,
              "#d8576b"
             ],
             [
              0.6666666666666666,
              "#ed7953"
             ],
             [
              0.7777777777777778,
              "#fb9f3a"
             ],
             [
              0.8888888888888888,
              "#fdca26"
             ],
             [
              1,
              "#f0f921"
             ]
            ],
            "type": "heatmapgl"
           }
          ],
          "histogram": [
           {
            "marker": {
             "colorbar": {
              "outlinewidth": 0,
              "ticks": ""
             }
            },
            "type": "histogram"
           }
          ],
          "histogram2d": [
           {
            "colorbar": {
             "outlinewidth": 0,
             "ticks": ""
            },
            "colorscale": [
             [
              0,
              "#0d0887"
             ],
             [
              0.1111111111111111,
              "#46039f"
             ],
             [
              0.2222222222222222,
              "#7201a8"
             ],
             [
              0.3333333333333333,
              "#9c179e"
             ],
             [
              0.4444444444444444,
              "#bd3786"
             ],
             [
              0.5555555555555556,
              "#d8576b"
             ],
             [
              0.6666666666666666,
              "#ed7953"
             ],
             [
              0.7777777777777778,
              "#fb9f3a"
             ],
             [
              0.8888888888888888,
              "#fdca26"
             ],
             [
              1,
              "#f0f921"
             ]
            ],
            "type": "histogram2d"
           }
          ],
          "histogram2dcontour": [
           {
            "colorbar": {
             "outlinewidth": 0,
             "ticks": ""
            },
            "colorscale": [
             [
              0,
              "#0d0887"
             ],
             [
              0.1111111111111111,
              "#46039f"
             ],
             [
              0.2222222222222222,
              "#7201a8"
             ],
             [
              0.3333333333333333,
              "#9c179e"
             ],
             [
              0.4444444444444444,
              "#bd3786"
             ],
             [
              0.5555555555555556,
              "#d8576b"
             ],
             [
              0.6666666666666666,
              "#ed7953"
             ],
             [
              0.7777777777777778,
              "#fb9f3a"
             ],
             [
              0.8888888888888888,
              "#fdca26"
             ],
             [
              1,
              "#f0f921"
             ]
            ],
            "type": "histogram2dcontour"
           }
          ],
          "mesh3d": [
           {
            "colorbar": {
             "outlinewidth": 0,
             "ticks": ""
            },
            "type": "mesh3d"
           }
          ],
          "parcoords": [
           {
            "line": {
             "colorbar": {
              "outlinewidth": 0,
              "ticks": ""
             }
            },
            "type": "parcoords"
           }
          ],
          "pie": [
           {
            "automargin": true,
            "type": "pie"
           }
          ],
          "scatter": [
           {
            "marker": {
             "colorbar": {
              "outlinewidth": 0,
              "ticks": ""
             }
            },
            "type": "scatter"
           }
          ],
          "scatter3d": [
           {
            "line": {
             "colorbar": {
              "outlinewidth": 0,
              "ticks": ""
             }
            },
            "marker": {
             "colorbar": {
              "outlinewidth": 0,
              "ticks": ""
             }
            },
            "type": "scatter3d"
           }
          ],
          "scattercarpet": [
           {
            "marker": {
             "colorbar": {
              "outlinewidth": 0,
              "ticks": ""
             }
            },
            "type": "scattercarpet"
           }
          ],
          "scattergeo": [
           {
            "marker": {
             "colorbar": {
              "outlinewidth": 0,
              "ticks": ""
             }
            },
            "type": "scattergeo"
           }
          ],
          "scattergl": [
           {
            "marker": {
             "colorbar": {
              "outlinewidth": 0,
              "ticks": ""
             }
            },
            "type": "scattergl"
           }
          ],
          "scattermapbox": [
           {
            "marker": {
             "colorbar": {
              "outlinewidth": 0,
              "ticks": ""
             }
            },
            "type": "scattermapbox"
           }
          ],
          "scatterpolar": [
           {
            "marker": {
             "colorbar": {
              "outlinewidth": 0,
              "ticks": ""
             }
            },
            "type": "scatterpolar"
           }
          ],
          "scatterpolargl": [
           {
            "marker": {
             "colorbar": {
              "outlinewidth": 0,
              "ticks": ""
             }
            },
            "type": "scatterpolargl"
           }
          ],
          "scatterternary": [
           {
            "marker": {
             "colorbar": {
              "outlinewidth": 0,
              "ticks": ""
             }
            },
            "type": "scatterternary"
           }
          ],
          "surface": [
           {
            "colorbar": {
             "outlinewidth": 0,
             "ticks": ""
            },
            "colorscale": [
             [
              0,
              "#0d0887"
             ],
             [
              0.1111111111111111,
              "#46039f"
             ],
             [
              0.2222222222222222,
              "#7201a8"
             ],
             [
              0.3333333333333333,
              "#9c179e"
             ],
             [
              0.4444444444444444,
              "#bd3786"
             ],
             [
              0.5555555555555556,
              "#d8576b"
             ],
             [
              0.6666666666666666,
              "#ed7953"
             ],
             [
              0.7777777777777778,
              "#fb9f3a"
             ],
             [
              0.8888888888888888,
              "#fdca26"
             ],
             [
              1,
              "#f0f921"
             ]
            ],
            "type": "surface"
           }
          ],
          "table": [
           {
            "cells": {
             "fill": {
              "color": "#EBF0F8"
             },
             "line": {
              "color": "white"
             }
            },
            "header": {
             "fill": {
              "color": "#C8D4E3"
             },
             "line": {
              "color": "white"
             }
            },
            "type": "table"
           }
          ]
         },
         "layout": {
          "annotationdefaults": {
           "arrowcolor": "#2a3f5f",
           "arrowhead": 0,
           "arrowwidth": 1
          },
          "coloraxis": {
           "colorbar": {
            "outlinewidth": 0,
            "ticks": ""
           }
          },
          "colorscale": {
           "diverging": [
            [
             0,
             "#8e0152"
            ],
            [
             0.1,
             "#c51b7d"
            ],
            [
             0.2,
             "#de77ae"
            ],
            [
             0.3,
             "#f1b6da"
            ],
            [
             0.4,
             "#fde0ef"
            ],
            [
             0.5,
             "#f7f7f7"
            ],
            [
             0.6,
             "#e6f5d0"
            ],
            [
             0.7,
             "#b8e186"
            ],
            [
             0.8,
             "#7fbc41"
            ],
            [
             0.9,
             "#4d9221"
            ],
            [
             1,
             "#276419"
            ]
           ],
           "sequential": [
            [
             0,
             "#0d0887"
            ],
            [
             0.1111111111111111,
             "#46039f"
            ],
            [
             0.2222222222222222,
             "#7201a8"
            ],
            [
             0.3333333333333333,
             "#9c179e"
            ],
            [
             0.4444444444444444,
             "#bd3786"
            ],
            [
             0.5555555555555556,
             "#d8576b"
            ],
            [
             0.6666666666666666,
             "#ed7953"
            ],
            [
             0.7777777777777778,
             "#fb9f3a"
            ],
            [
             0.8888888888888888,
             "#fdca26"
            ],
            [
             1,
             "#f0f921"
            ]
           ],
           "sequentialminus": [
            [
             0,
             "#0d0887"
            ],
            [
             0.1111111111111111,
             "#46039f"
            ],
            [
             0.2222222222222222,
             "#7201a8"
            ],
            [
             0.3333333333333333,
             "#9c179e"
            ],
            [
             0.4444444444444444,
             "#bd3786"
            ],
            [
             0.5555555555555556,
             "#d8576b"
            ],
            [
             0.6666666666666666,
             "#ed7953"
            ],
            [
             0.7777777777777778,
             "#fb9f3a"
            ],
            [
             0.8888888888888888,
             "#fdca26"
            ],
            [
             1,
             "#f0f921"
            ]
           ]
          },
          "colorway": [
           "#636efa",
           "#EF553B",
           "#00cc96",
           "#ab63fa",
           "#FFA15A",
           "#19d3f3",
           "#FF6692",
           "#B6E880",
           "#FF97FF",
           "#FECB52"
          ],
          "font": {
           "color": "#2a3f5f"
          },
          "geo": {
           "bgcolor": "white",
           "lakecolor": "white",
           "landcolor": "#E5ECF6",
           "showlakes": true,
           "showland": true,
           "subunitcolor": "white"
          },
          "hoverlabel": {
           "align": "left"
          },
          "hovermode": "closest",
          "mapbox": {
           "style": "light"
          },
          "paper_bgcolor": "white",
          "plot_bgcolor": "#E5ECF6",
          "polar": {
           "angularaxis": {
            "gridcolor": "white",
            "linecolor": "white",
            "ticks": ""
           },
           "bgcolor": "#E5ECF6",
           "radialaxis": {
            "gridcolor": "white",
            "linecolor": "white",
            "ticks": ""
           }
          },
          "scene": {
           "xaxis": {
            "backgroundcolor": "#E5ECF6",
            "gridcolor": "white",
            "gridwidth": 2,
            "linecolor": "white",
            "showbackground": true,
            "ticks": "",
            "zerolinecolor": "white"
           },
           "yaxis": {
            "backgroundcolor": "#E5ECF6",
            "gridcolor": "white",
            "gridwidth": 2,
            "linecolor": "white",
            "showbackground": true,
            "ticks": "",
            "zerolinecolor": "white"
           },
           "zaxis": {
            "backgroundcolor": "#E5ECF6",
            "gridcolor": "white",
            "gridwidth": 2,
            "linecolor": "white",
            "showbackground": true,
            "ticks": "",
            "zerolinecolor": "white"
           }
          },
          "shapedefaults": {
           "line": {
            "color": "#2a3f5f"
           }
          },
          "ternary": {
           "aaxis": {
            "gridcolor": "white",
            "linecolor": "white",
            "ticks": ""
           },
           "baxis": {
            "gridcolor": "white",
            "linecolor": "white",
            "ticks": ""
           },
           "bgcolor": "#E5ECF6",
           "caxis": {
            "gridcolor": "white",
            "linecolor": "white",
            "ticks": ""
           }
          },
          "title": {
           "x": 0.05
          },
          "xaxis": {
           "automargin": true,
           "gridcolor": "white",
           "linecolor": "white",
           "ticks": "",
           "title": {
            "standoff": 15
           },
           "zerolinecolor": "white",
           "zerolinewidth": 2
          },
          "yaxis": {
           "automargin": true,
           "gridcolor": "white",
           "linecolor": "white",
           "ticks": "",
           "title": {
            "standoff": 15
           },
           "zerolinecolor": "white",
           "zerolinewidth": 2
          }
         }
        },
        "title": {
         "font": {
          "size": 16
         },
         "text": "<br>Domain Sharing among Alexa Top 50 website"
        },
        "xaxis": {
         "showgrid": false,
         "showticklabels": false,
         "zeroline": false
        },
        "yaxis": {
         "showgrid": false,
         "showticklabels": false,
         "zeroline": false
        }
       }
      }
     },
     "metadata": {},
     "output_type": "display_data"
    }
   ],
   "source": [
    "fig = go.Figure(data=[edge_trace, node_trace],\n",
    "             layout=go.Layout(\n",
    "                title='<br>Domain Sharing among Alexa Top 50 website',\n",
    "                titlefont_size=16,\n",
    "                showlegend=False,\n",
    "                hovermode='closest',\n",
    "                margin=dict(b=20,l=5,r=5,t=40),\n",
    "                # annotations=[ dict(\n",
    "                #     text=\"Python code: <a href='https://plot.ly/ipython-notebooks/network-graphs/'> https://plot.ly/ipython-notebooks/network-graphs/</a>\",\n",
    "                #     showarrow=False,\n",
    "                #     xref=\"paper\", yref=\"paper\",\n",
    "                #     x=0.005, y=-0.002 ) ],\n",
    "                xaxis=dict(showgrid=False, zeroline=False, showticklabels=False),\n",
    "                yaxis=dict(showgrid=False, zeroline=False, showticklabels=False))\n",
    "                )\n",
    "fig.show()"
   ]
  },
  {
   "cell_type": "code",
   "execution_count": null,
   "metadata": {},
   "outputs": [],
   "source": []
  }
 ]
}