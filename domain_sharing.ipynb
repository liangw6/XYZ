{
 "nbformat": 4,
 "nbformat_minor": 2,
 "metadata": {
  "language_info": {
   "name": "python",
   "codemirror_mode": {
    "name": "ipython",
    "version": 3
   },
   "version": "3.7.5-final"
  },
  "orig_nbformat": 2,
  "file_extension": ".py",
  "mimetype": "text/x-python",
  "name": "python",
  "npconvert_exporter": "python",
  "pygments_lexer": "ipython3",
  "version": 3,
  "kernelspec": {
   "name": "python37564bit6dcd843cb4ed4eb1a0e534913a974843",
   "display_name": "Python 3.7.5 64-bit"
  }
 },
 "cells": [
  {
   "cell_type": "code",
   "execution_count": 11,
   "metadata": {},
   "outputs": [],
   "source": [
    "import plotly.graph_objects as go\n",
    "from itertools import product\n",
    "import networkx as nx\n",
    "from matplotlib import pyplot as plt\n",
    "\n",
    "# G = nx.random_geometric_graph(200, 0.125)"
   ]
  },
  {
   "cell_type": "code",
   "execution_count": 12,
   "metadata": {},
   "outputs": [
    {
     "name": "stdout",
     "output_type": "stream",
     "text": "defaultdict(<class 'set'>, {'Google.com': {'Google'}, 'Youtube.com': {'Google'}, 'Amazon.com': {'Amazon', 'OpenX', 'Facebook', 'Twitter'}, 'Facebook.com': {'Google', 'Facebook'}, 'Yahoo.com': {'Rubicon Project', 'Pubmatic', 'Index Exchange', 'Google', 'AppNexus', 'PubMatic', 'Verizon', 'Facebook', 'Amazon', 'comScore', 'Yahoo'}, 'Reddit.com': {'Flashtalking', 'Reddit', 'A.A.Exchange', 'Google', 'Quantcast', 'comScore', 'Amazon', 'Yahoo', 'A.A.Ex.', 'Acxiom', 'AAX', 'Kantar'}, 'Ebay.com': {'eBay', 'ThreatMetrix', 'Google', 'ThreatMatrix', 'Ebay'}, 'Netflix.com': {'Netflix', 'Google', 'Facebook'}, 'Live.com': {'Microsoft', 'Optimizely'}, 'Twitch.tv': {'Google', 'Nielsen', 'Branch', 'comScore', 'Amazon', 'Salesforce', 'Branch Metrics'}, 'Myshopify.com': {'Nielsen'}, 'Instructure.com': {'Trade Desk', 'Microsoft', 'AppDynamics', 'Gandi', 'Facebook', 'LiveChat', 'Acquia', 'Terminus', 'Demandbase', 'Twitter', 'Akamai', 'Marketo', 'Wistia', 'Triblio', 'AppNexus', 'Cloudflare', 'Wingify', 'DemandBase', 'Google', 'Beeswax', 'Lucky Orange', 'Crazy Egg', 'New Relic'}, 'Cnn.com': {'Rubicon Project', 'Optimizely', 'Sourcepoint', 'Trade Desk', 'Nielsen', 'Microsoft', 'Beemray\\n', 'SourcePoint', 'Gandi', 'Facebook', 'Bounce Exchange', 'Twitter\\n', 'Zeta Global', 'Rubicon', 'Twitter', 'Integral Ad Science', 'LendingTree (?)', 'Segment', 'IndexExchange', 'CNN', 'Criteo', 'Salesforce', 'trueAnthem', 'Adobe', 'BounceX', 'Outbrain', 'AppNexus', 'Cloudflare', 'Amazon', 'Usabilla', 'ChartBeat', 'jsdelivr.net', 'Index Exchange', 'Google', 'Beeswax', 'Usabilla\\n', 'Turner', 'comScore', 'jsdelivr', 'Acxiom', 'Appnexus\\n', 'Dentsu Aigis'}, 'Espn.com': {'Disney', 'Google', 'Nielsen', 'Cintnetworks', 'Ensighten', 'Twitter', 'comScore', 'Amazon', 'Disney/CNN', 'ChartBeat', 'Adobe', 'Oracle'}, 'Instagram.com': {'Facebook'}, 'Linkedin.com': {'ScoreCard', 'Google', 'Microsoft', 'Facebook', 'comScore', 'Adobe'}, 'Chase.com': {'LiveRamp', 'Google', 'Microsoft', 'Chase', 'Facebook', 'Acxiom', 'Adobe', 'Twitter'}, 'Tmall.com': {'Alibaba', 'MarkMonitor'}, 'Dropbox.com': {'Dropbox', 'Google', 'Trade Desk', 'Microsoft', 'Sizmek', 'Criteo', 'Verizon', 'Facebook', 'Salesforce', 'MarkMonitor', 'Twitter'}, 'Twitter.com': {'Google'}, 'Microsoft.com': {'ClickTale', 'Microsoft', 'Akamai', 'Adobe'}, 'Nytimes.com': {'Chartbeat', 'Google', 'Optimizely', 'Media.net', 'Nielsen', 'Microsoft', 'NYTimes', 'DataDome', 'Amazon', 'comScore', 'ChartBeat', 'Adobe', 'Oracle'}, 'Apple.com': {'Apple', 'Adobe'}, 'Intuit.com': {'Optimizely', 'Google', 'TrustArc', 'AppDynamics', 'Ensighten', 'Facebook', 'Amazon', 'Decibel Insight', 'Intuit', 'Adobe', 'Twitter'}, 'Adobe.com': {'Flashtalking', 'Akamai', 'Google', 'WellsFargo', 'OpenX', 'Microsoft', 'Evidon', 'iPerceptions', 'Twitter', 'Facebook', 'MediaMath', 'Adobe', 'Demandbase'}, 'Zillow.com': {'Google', 'Trade Desk', 'Microsoft', 'Facebook', 'comScore', 'Kenshoo', 'MediaMath', 'Salesforce', 'Zeta Global', 'Twitter'}, 'Imdb.com': {'comScore', 'Google', 'Amazon'}, 'Wellsfargo.com': {'Google', 'Wellsfargo', 'Adobe', 'Facebook'}, 'Force.com': {'DemandBase', 'Optimizely', 'Google', 'Microsoft', 'Twitter', 'Salesforce', 'New Relic', 'Adobe', 'Demandbase'}, 'Spotify.com': {'Google', 'Trade Desk', 'Nielsen', 'Snapchat', 'Twitter', 'Facebook', 'comScore', 'Telenor', 'Acxiom', 'Pinterest', 'Hotjar', 'Fastly', 'VisualIQ', 'Hot Jar', 'Adobe', 'Oracle'}, 'Indeed.com': {'Indeed', 'comScore', 'Google'}, 'Aliexpress.com': {'Akamai', 'Taobao', 'Optimizely', 'Google', 'Akamai(?)', 'Criteo', 'Facebook', 'New Relic', 'Alibaba', 'MarkMonitor'}, 'Walmart.com': {'Google', 'AppNexus', 'Microsoft', 'Verizon', 'Criteo', 'Facebook', 'Yahoo', 'Exponential Interactive', 'Walmart', 'Pinterest', 'VisualIQ', 'MarkMonitor'}, 'Msn.com': {'Microsoft', 'LockerDome', 'Akamai', 'Verizon', 'Taboola', 'PulsePoint', 'TripleLift', 'Storygize', 'Bidswitch', 'Zemanta', 'Outbrain', 'AppNexus', 'ChartBeat', 'LockerDome(?)', 'Google', 'Neustar', 'Apple', 'comScore', 'Yahoo', 'MediaMath', 'Acxiom', 'Media.net', 'IPONWEB'}, 'Hulu.com': {'QQ.com', 'Trade Desk', 'Microsoft', 'Facebook', 'Twitter', 'Akamai', 'Verizon', 'Salesforce', 'Pinterest', 'Hot Jar', 'Snapchat', 'Hotjar', 'TvSquared', 'Google', 'Evidon', 'Yahoo', 'Acxiom', 'New Relic', 'Tealium', 'Neustar'}, 'Sohu.com': {'Tanx', 'adv-sv-stat.focus.cn/', 'Sohu', 'OptAim', 'Optaim (Chinese)', 'Baidu', 'Sohu (Chinese)'}, 'Paypal.com': {'eBay', 'Google', 'Facebook'}, 'Amazonaws.com': {'Adobe', 'Microsoft', 'Google', 'Amazon'}, 'Stackoverflow.com': {'Quantcast', 'comScore', 'Google'}, 'Imgur.com': {'Imgur', 'Videoplayerhub.com', 'Smart AdServer', 'Google', 'Quantcast', 'Amplitude', 'Facebook', 'Amazon', 'comScore', 'Smart Adserver'}, 'Salesforce.com': {'DemandBase', 'Google', 'Microsoft', 'Twitter', 'Salesforce', 'Adobe', 'Demandbase'}, 'Livejasmin.com': {'XXX'}, 'Bongacams.com': {'XXX'}, 'Pornhub.com': {'XXX'}, 'Office.com': {'Akamai', 'Microsoft'}, 'Qq.com': {'Xtgreat.com (?)', 'Microsoft', 'ReachMax', 'Tencent'}})\n"
    }
   ],
   "source": [
    "import yaml\n",
    "with open('website_by_type.yaml', 'r') as stream:\n",
    "    website_by_type = yaml.safe_load(stream)\n",
    "\n",
    "import pickle\n",
    "with open('web2tracker_domains.pkl', 'rb') as handle:\n",
    "    web2domain = pickle.load(handle)\n",
    "print(web2domain)"
   ]
  },
  {
   "cell_type": "code",
   "execution_count": 13,
   "metadata": {},
   "outputs": [
    {
     "name": "stdout",
     "output_type": "stream",
     "text": "1 {'Flashtalking', 'Akamai', 'Google', 'WellsFargo', 'OpenX', 'Microsoft', 'Evidon', 'iPerceptions', 'Twitter', 'Facebook', 'MediaMath', 'Adobe', 'Demandbase'}\n2 {'Google', 'Trade Desk', 'Nielsen', 'Snapchat', 'Twitter', 'Facebook', 'comScore', 'Telenor', 'Acxiom', 'Pinterest', 'Hotjar', 'Fastly', 'VisualIQ', 'Hot Jar', 'Adobe', 'Oracle'}\n"
    }
   ],
   "source": [
    "print('1', web2domain['Adobe.com'])\n",
    "print('2', web2domain['Spotify.com'])"
   ]
  },
  {
   "cell_type": "code",
   "execution_count": 14,
   "metadata": {},
   "outputs": [
    {
     "ename": "SyntaxError",
     "evalue": "invalid syntax (<ipython-input-14-1119973c2f66>, line 2)",
     "output_type": "error",
     "traceback": [
      "\u001b[0;36m  File \u001b[0;32m\"<ipython-input-14-1119973c2f66>\"\u001b[0;36m, line \u001b[0;32m2\u001b[0m\n\u001b[0;31m    website_black_list = # {\"Google.com\"}\u001b[0m\n\u001b[0m                                         ^\u001b[0m\n\u001b[0;31mSyntaxError\u001b[0m\u001b[0;31m:\u001b[0m invalid syntax\n"
     ]
    }
   ],
   "source": [
    "# website_white_list = \"\" # = set(website_by_type[\"News\"])\n",
    "website_black_list = # {\"Google.com\"}\n",
    "\n",
    "G = nx.Graph()\n",
    "for x in web2domain.keys():\n",
    "    for y in web2domain[x]:\n",
    "        y_domain_name = y + '.com' if '.com' not in y else y\n",
    "        if y_domain_name != x and y_domain_name in web2domain.keys() and y_domain_name not in website_black_list:\n",
    "            G.add_node(x)\n",
    "            G.add_node(y_domain_name)\n",
    "            G.add_edge(x, y_domain_name)\n",
    "\n",
    "# nx.draw(G, with_labels=True)\n",
    "# plt.show()\n",
    "# plt.savefig(\"preliminary_figure.png\")\n",
    "pos = nx.random_layout(G)\n",
    "# pos\n",
    "print(G.edges)"
   ]
  },
  {
   "cell_type": "code",
   "execution_count": 15,
   "metadata": {},
   "outputs": [],
   "source": [
    "edge_x = []\n",
    "edge_y = []\n",
    "for edge in G.edges():\n",
    "    x0, y0 = pos[edge[0]]\n",
    "    x1, y1 = pos[edge[1]]\n",
    "    edge_x.append(x0)\n",
    "    edge_x.append(x1)\n",
    "    edge_x.append(None)\n",
    "    edge_y.append(y0)\n",
    "    edge_y.append(y1)\n",
    "    edge_y.append(None)\n",
    "\n",
    "edge_trace = go.Scatter(\n",
    "    x=edge_x, y=edge_y,\n",
    "    line=dict(width=0.5, color='#888'),\n",
    "    hoverinfo='none',\n",
    "    mode='lines')\n",
    "\n",
    "node_x = []\n",
    "node_y = []\n",
    "for node_name in pos.keys():\n",
    "    x, y = pos[node_name]\n",
    "    node_x.append(x)\n",
    "    node_y.append(y)\n",
    "\n",
    "node_trace = go.Scatter(\n",
    "    x=node_x, y=node_y,\n",
    "    mode='markers+text',\n",
    "    hoverinfo='text',\n",
    "    marker=dict(\n",
    "        showscale=True,\n",
    "        # colorscale options\n",
    "        #'Greys' | 'YlGnBu' | 'Greens' | 'YlOrRd' | 'Bluered' | 'RdBu' |\n",
    "        #'Reds' | 'Blues' | 'Picnic' | 'Rainbow' | 'Portland' | 'Jet' |\n",
    "        #'Hot' | 'Blackbody' | 'Earth' | 'Electric' | 'Viridis' |\n",
    "        colorscale='YlGnBu',\n",
    "        reversescale=True,\n",
    "        color=[],\n",
    "        size=10,\n",
    "        colorbar=dict(\n",
    "            thickness=15,\n",
    "            title='Node Connections',\n",
    "            xanchor='left',\n",
    "            titleside='right'\n",
    "        ),\n",
    "        line_width=2),\n",
    "    name=\"marker and text\",\n",
    "    text=list(pos.keys()),\n",
    "    textposition=\"bottom center\")\n"
   ]
  },
  {
   "cell_type": "code",
   "execution_count": 16,
   "metadata": {},
   "outputs": [],
   "source": [
    "node_adjacencies = []\n",
    "node_text = []\n",
    "for node, adjacencies in enumerate(G.adjacency()):\n",
    "    node_adjacencies.append(len(adjacencies[1]))\n",
    "    node_text.append('# of connections: '+str(len(adjacencies[1])))\n",
    "\n",
    "node_trace.marker.color = node_adjacencies\n",
    "# node_trace.text = node_text"
   ]
  },
  {
   "cell_type": "code",
   "execution_count": 17,
   "metadata": {},
   "outputs": [
    {
     "data": {
      "application/vnd.plotly.v1+json": {
       "config": {
        "plotlyServerURL": "https://plot.ly"
       },
       "data": [
        {
         "hoverinfo": "none",
         "line": {
          "color": "#888",
          "width": 0.5
         },
         "mode": "lines",
         "type": "scatter",
         "x": [
          0.9628900289535522,
          0.8990799784660339,
          null,
          0.9628900289535522,
          0.5239109992980957,
          null,
          0.9628900289535522,
          0.7512398958206177,
          null,
          0.9628900289535522,
          0.16898803412914276,
          null,
          0.9628900289535522,
          0.4884229302406311,
          null,
          0.9628900289535522,
          0.6389414072036743,
          null,
          0.9628900289535522,
          0.1819605827331543,
          null,
          0.9628900289535522,
          0.9459768533706665,
          null,
          0.9628900289535522,
          0.044575247913599014,
          null,
          0.9628900289535522,
          0.4440883994102478,
          null,
          0.9628900289535522,
          0.47397178411483765,
          null,
          0.9628900289535522,
          0.47180286049842834,
          null,
          0.8990799784660339,
          0.7512398958206177,
          null,
          0.8990799784660339,
          0.551527202129364,
          null,
          0.8990799784660339,
          0.7779707312583923,
          null,
          0.8990799784660339,
          0.6389414072036743,
          null,
          0.8990799784660339,
          0.18164297938346863,
          null,
          0.8990799784660339,
          0.2498708814382553,
          null,
          0.8990799784660339,
          0.9317435026168823,
          null,
          0.8990799784660339,
          0.20988228917121887,
          null,
          0.8990799784660339,
          0.044575247913599014,
          null,
          0.8990799784660339,
          0.560460090637207,
          null,
          0.8990799784660339,
          0.31350788474082947,
          null,
          0.8990799784660339,
          0.6084138751029968,
          null,
          0.8990799784660339,
          0.09993506222963333,
          null,
          0.8990799784660339,
          0.6005784869194031,
          null,
          0.8990799784660339,
          0.1704467236995697,
          null,
          0.8990799784660339,
          0.38452568650245667,
          null,
          0.8990799784660339,
          0.6948784589767456,
          null,
          0.8990799784660339,
          0.47180286049842834,
          null,
          0.5239109992980957,
          0.7779707312583923,
          null,
          0.5239109992980957,
          0.6389414072036743,
          null,
          0.5239109992980957,
          0.1819605827331543,
          null,
          0.5239109992980957,
          0.9317435026168823,
          null,
          0.5239109992980957,
          0.20988228917121887,
          null,
          0.5239109992980957,
          0.044575247913599014,
          null,
          0.5239109992980957,
          0.560460090637207,
          null,
          0.5239109992980957,
          0.31350788474082947,
          null,
          0.5239109992980957,
          0.897147536277771,
          null,
          0.5239109992980957,
          0.09993506222963333,
          null,
          0.5239109992980957,
          0.38452568650245667,
          null,
          0.5239109992980957,
          0.3129110038280487,
          null,
          0.7512398958206177,
          0.16898803412914276,
          null,
          0.7512398958206177,
          0.1704467236995697,
          null,
          0.7512398958206177,
          0.1758425086736679,
          null,
          0.7512398958206177,
          0.38452568650245667,
          null,
          0.7024546265602112,
          0.46803367137908936,
          null,
          0.46803367137908936,
          0.7779707312583923,
          null,
          0.46803367137908936,
          0.6389414072036743,
          null,
          0.46803367137908936,
          0.2498708814382553,
          null,
          0.46803367137908936,
          0.9317435026168823,
          null,
          0.46803367137908936,
          0.20988228917121887,
          null,
          0.46803367137908936,
          0.560460090637207,
          null,
          0.46803367137908936,
          0.9459768533706665,
          null,
          0.46803367137908936,
          0.31350788474082947,
          null,
          0.46803367137908936,
          0.897147536277771,
          null,
          0.46803367137908936,
          0.1704467236995697,
          null,
          0.46803367137908936,
          0.1758425086736679,
          null,
          0.46803367137908936,
          0.38452568650245667,
          null,
          0.46803367137908936,
          0.47397178411483765,
          null,
          0.46803367137908936,
          0.3129110038280487,
          null,
          0.46803367137908936,
          0.0673414021730423,
          null,
          0.46803367137908936,
          0.6699962615966797,
          null,
          0.4884229302406311,
          0.3129110038280487,
          null,
          0.3129110038280487,
          0.6389414072036743,
          null,
          0.3129110038280487,
          0.20988228917121887,
          null,
          0.3129110038280487,
          0.31350788474082947,
          null,
          0.3129110038280487,
          0.897147536277771,
          null,
          0.3129110038280487,
          0.38452568650245667,
          null,
          0.3129110038280487,
          0.560460090637207,
          null,
          0.6389414072036743,
          0.560460090637207,
          null,
          0.560460090637207,
          0.1819605827331543,
          null,
          0.560460090637207,
          0.2498708814382553,
          null,
          0.560460090637207,
          0.9317435026168823,
          null,
          0.560460090637207,
          0.9459768533706665,
          null,
          0.560460090637207,
          0.4089973568916321,
          null,
          0.560460090637207,
          0.044575247913599014,
          null,
          0.560460090637207,
          0.6084138751029968,
          null,
          0.560460090637207,
          0.897147536277771,
          null,
          0.560460090637207,
          0.09993506222963333,
          null,
          0.560460090637207,
          0.47397178411483765,
          null,
          0.4089973568916321,
          0.1758425086736679,
          null
         ],
         "y": [
          0.5890673995018005,
          0.25174054503440857,
          null,
          0.5890673995018005,
          0.3091275095939636,
          null,
          0.5890673995018005,
          0.48349979519844055,
          null,
          0.5890673995018005,
          0.6425697207450867,
          null,
          0.5890673995018005,
          0.1767100989818573,
          null,
          0.5890673995018005,
          0.6461761593818665,
          null,
          0.5890673995018005,
          0.5541601777076721,
          null,
          0.5890673995018005,
          0.3506074547767639,
          null,
          0.5890673995018005,
          0.7163340449333191,
          null,
          0.5890673995018005,
          0.664027988910675,
          null,
          0.5890673995018005,
          0.04254627227783203,
          null,
          0.5890673995018005,
          0.47386667132377625,
          null,
          0.25174054503440857,
          0.48349979519844055,
          null,
          0.25174054503440857,
          0.3050311207771301,
          null,
          0.25174054503440857,
          0.30429232120513916,
          null,
          0.25174054503440857,
          0.6461761593818665,
          null,
          0.25174054503440857,
          0.7898330092430115,
          null,
          0.25174054503440857,
          0.673328161239624,
          null,
          0.25174054503440857,
          0.4297695755958557,
          null,
          0.25174054503440857,
          0.06266382336616516,
          null,
          0.25174054503440857,
          0.7163340449333191,
          null,
          0.25174054503440857,
          0.17644266784191132,
          null,
          0.25174054503440857,
          0.9101080298423767,
          null,
          0.25174054503440857,
          0.6077301502227783,
          null,
          0.25174054503440857,
          0.6217786073684692,
          null,
          0.25174054503440857,
          0.5516030192375183,
          null,
          0.25174054503440857,
          0.41139674186706543,
          null,
          0.25174054503440857,
          0.3274917006492615,
          null,
          0.25174054503440857,
          0.5310193300247192,
          null,
          0.25174054503440857,
          0.47386667132377625,
          null,
          0.3091275095939636,
          0.30429232120513916,
          null,
          0.3091275095939636,
          0.6461761593818665,
          null,
          0.3091275095939636,
          0.5541601777076721,
          null,
          0.3091275095939636,
          0.4297695755958557,
          null,
          0.3091275095939636,
          0.06266382336616516,
          null,
          0.3091275095939636,
          0.7163340449333191,
          null,
          0.3091275095939636,
          0.17644266784191132,
          null,
          0.3091275095939636,
          0.9101080298423767,
          null,
          0.3091275095939636,
          0.162343367934227,
          null,
          0.3091275095939636,
          0.6217786073684692,
          null,
          0.3091275095939636,
          0.3274917006492615,
          null,
          0.3091275095939636,
          0.38266485929489136,
          null,
          0.48349979519844055,
          0.6425697207450867,
          null,
          0.48349979519844055,
          0.41139674186706543,
          null,
          0.48349979519844055,
          0.22923138737678528,
          null,
          0.48349979519844055,
          0.3274917006492615,
          null,
          0.6611320972442627,
          0.407024085521698,
          null,
          0.407024085521698,
          0.30429232120513916,
          null,
          0.407024085521698,
          0.6461761593818665,
          null,
          0.407024085521698,
          0.673328161239624,
          null,
          0.407024085521698,
          0.4297695755958557,
          null,
          0.407024085521698,
          0.06266382336616516,
          null,
          0.407024085521698,
          0.17644266784191132,
          null,
          0.407024085521698,
          0.3506074547767639,
          null,
          0.407024085521698,
          0.9101080298423767,
          null,
          0.407024085521698,
          0.162343367934227,
          null,
          0.407024085521698,
          0.41139674186706543,
          null,
          0.407024085521698,
          0.22923138737678528,
          null,
          0.407024085521698,
          0.3274917006492615,
          null,
          0.407024085521698,
          0.04254627227783203,
          null,
          0.407024085521698,
          0.38266485929489136,
          null,
          0.407024085521698,
          0.5743795037269592,
          null,
          0.407024085521698,
          0.7058817148208618,
          null,
          0.1767100989818573,
          0.38266485929489136,
          null,
          0.38266485929489136,
          0.6461761593818665,
          null,
          0.38266485929489136,
          0.06266382336616516,
          null,
          0.38266485929489136,
          0.9101080298423767,
          null,
          0.38266485929489136,
          0.162343367934227,
          null,
          0.38266485929489136,
          0.3274917006492615,
          null,
          0.38266485929489136,
          0.17644266784191132,
          null,
          0.6461761593818665,
          0.17644266784191132,
          null,
          0.17644266784191132,
          0.5541601777076721,
          null,
          0.17644266784191132,
          0.673328161239624,
          null,
          0.17644266784191132,
          0.4297695755958557,
          null,
          0.17644266784191132,
          0.3506074547767639,
          null,
          0.17644266784191132,
          0.1545732319355011,
          null,
          0.17644266784191132,
          0.7163340449333191,
          null,
          0.17644266784191132,
          0.6077301502227783,
          null,
          0.17644266784191132,
          0.162343367934227,
          null,
          0.17644266784191132,
          0.6217786073684692,
          null,
          0.17644266784191132,
          0.04254627227783203,
          null,
          0.1545732319355011,
          0.22923138737678528,
          null
         ]
        },
        {
         "hoverinfo": "text",
         "marker": {
          "color": [
           12,
           19,
           13,
           6,
           2,
           1,
           1,
           17,
           2,
           9,
           3,
           6,
           15,
           3,
           1,
           3,
           4,
           4,
           3,
           2,
           4,
           4,
           1,
           2,
           4,
           3,
           1,
           3,
           3,
           5,
           1,
           3,
           2,
           1,
           1
          ],
          "colorbar": {
           "thickness": 15,
           "title": {
            "side": "right",
            "text": "Node Connections"
           },
           "xanchor": "left"
          },
          "colorscale": [
           [
            0,
            "rgb(255,255,217)"
           ],
           [
            0.125,
            "rgb(237,248,177)"
           ],
           [
            0.25,
            "rgb(199,233,180)"
           ],
           [
            0.375,
            "rgb(127,205,187)"
           ],
           [
            0.5,
            "rgb(65,182,196)"
           ],
           [
            0.625,
            "rgb(29,145,192)"
           ],
           [
            0.75,
            "rgb(34,94,168)"
           ],
           [
            0.875,
            "rgb(37,52,148)"
           ],
           [
            1,
            "rgb(8,29,88)"
           ]
          ],
          "line": {
           "width": 2
          },
          "reversescale": true,
          "showscale": true,
          "size": 10
         },
         "mode": "markers+text",
         "name": "marker and text",
         "text": [
          "Amazon.com",
          "Facebook.com",
          "Twitter.com",
          "Yahoo.com",
          "Reddit.com",
          "Netflix.com",
          "Live.com",
          "Microsoft.com",
          "Twitch.tv",
          "Salesforce.com",
          "Instructure.com",
          "Cnn.com",
          "Adobe.com",
          "Espn.com",
          "Instagram.com",
          "Linkedin.com",
          "Chase.com",
          "Dropbox.com",
          "Nytimes.com",
          "Apple.com",
          "Intuit.com",
          "Zillow.com",
          "Imdb.com",
          "Wellsfargo.com",
          "Force.com",
          "Spotify.com",
          "Aliexpress.com",
          "Walmart.com",
          "Msn.com",
          "Hulu.com",
          "Paypal.com",
          "Amazonaws.com",
          "Imgur.com",
          "Office.com",
          "Qq.com"
         ],
         "textposition": "bottom center",
         "type": "scatter",
         "x": [
          0.9628900289535522,
          0.8990799784660339,
          0.5239109992980957,
          0.7512398958206177,
          0.16898803412914276,
          0.551527202129364,
          0.7024546265602112,
          0.46803367137908936,
          0.4884229302406311,
          0.3129110038280487,
          0.7779707312583923,
          0.6389414072036743,
          0.560460090637207,
          0.1819605827331543,
          0.18164297938346863,
          0.2498708814382553,
          0.9317435026168823,
          0.20988228917121887,
          0.9459768533706665,
          0.4089973568916321,
          0.044575247913599014,
          0.31350788474082947,
          0.4440883994102478,
          0.6084138751029968,
          0.897147536277771,
          0.09993506222963333,
          0.6005784869194031,
          0.1704467236995697,
          0.1758425086736679,
          0.38452568650245667,
          0.6948784589767456,
          0.47397178411483765,
          0.47180286049842834,
          0.0673414021730423,
          0.6699962615966797
         ],
         "y": [
          0.5890673995018005,
          0.25174054503440857,
          0.3091275095939636,
          0.48349979519844055,
          0.6425697207450867,
          0.3050311207771301,
          0.6611320972442627,
          0.407024085521698,
          0.1767100989818573,
          0.38266485929489136,
          0.30429232120513916,
          0.6461761593818665,
          0.17644266784191132,
          0.5541601777076721,
          0.7898330092430115,
          0.673328161239624,
          0.4297695755958557,
          0.06266382336616516,
          0.3506074547767639,
          0.1545732319355011,
          0.7163340449333191,
          0.9101080298423767,
          0.664027988910675,
          0.6077301502227783,
          0.162343367934227,
          0.6217786073684692,
          0.5516030192375183,
          0.41139674186706543,
          0.22923138737678528,
          0.3274917006492615,
          0.5310193300247192,
          0.04254627227783203,
          0.47386667132377625,
          0.5743795037269592,
          0.7058817148208618
         ]
        }
       ],
       "layout": {
        "hovermode": "closest",
        "margin": {
         "b": 20,
         "l": 5,
         "r": 5,
         "t": 40
        },
        "showlegend": false,
        "template": {
         "data": {
          "bar": [
           {
            "error_x": {
             "color": "#2a3f5f"
            },
            "error_y": {
             "color": "#2a3f5f"
            },
            "marker": {
             "line": {
              "color": "#E5ECF6",
              "width": 0.5
             }
            },
            "type": "bar"
           }
          ],
          "barpolar": [
           {
            "marker": {
             "line": {
              "color": "#E5ECF6",
              "width": 0.5
             }
            },
            "type": "barpolar"
           }
          ],
          "carpet": [
           {
            "aaxis": {
             "endlinecolor": "#2a3f5f",
             "gridcolor": "white",
             "linecolor": "white",
             "minorgridcolor": "white",
             "startlinecolor": "#2a3f5f"
            },
            "baxis": {
             "endlinecolor": "#2a3f5f",
             "gridcolor": "white",
             "linecolor": "white",
             "minorgridcolor": "white",
             "startlinecolor": "#2a3f5f"
            },
            "type": "carpet"
           }
          ],
          "choropleth": [
           {
            "colorbar": {
             "outlinewidth": 0,
             "ticks": ""
            },
            "type": "choropleth"
           }
          ],
          "contour": [
           {
            "colorbar": {
             "outlinewidth": 0,
             "ticks": ""
            },
            "colorscale": [
             [
              0,
              "#0d0887"
             ],
             [
              0.1111111111111111,
              "#46039f"
             ],
             [
              0.2222222222222222,
              "#7201a8"
             ],
             [
              0.3333333333333333,
              "#9c179e"
             ],
             [
              0.4444444444444444,
              "#bd3786"
             ],
             [
              0.5555555555555556,
              "#d8576b"
             ],
             [
              0.6666666666666666,
              "#ed7953"
             ],
             [
              0.7777777777777778,
              "#fb9f3a"
             ],
             [
              0.8888888888888888,
              "#fdca26"
             ],
             [
              1,
              "#f0f921"
             ]
            ],
            "type": "contour"
           }
          ],
          "contourcarpet": [
           {
            "colorbar": {
             "outlinewidth": 0,
             "ticks": ""
            },
            "type": "contourcarpet"
           }
          ],
          "heatmap": [
           {
            "colorbar": {
             "outlinewidth": 0,
             "ticks": ""
            },
            "colorscale": [
             [
              0,
              "#0d0887"
             ],
             [
              0.1111111111111111,
              "#46039f"
             ],
             [
              0.2222222222222222,
              "#7201a8"
             ],
             [
              0.3333333333333333,
              "#9c179e"
             ],
             [
              0.4444444444444444,
              "#bd3786"
             ],
             [
              0.5555555555555556,
              "#d8576b"
             ],
             [
              0.6666666666666666,
              "#ed7953"
             ],
             [
              0.7777777777777778,
              "#fb9f3a"
             ],
             [
              0.8888888888888888,
              "#fdca26"
             ],
             [
              1,
              "#f0f921"
             ]
            ],
            "type": "heatmap"
           }
          ],
          "heatmapgl": [
           {
            "colorbar": {
             "outlinewidth": 0,
             "ticks": ""
            },
            "colorscale": [
             [
              0,
              "#0d0887"
             ],
             [
              0.1111111111111111,
              "#46039f"
             ],
             [
              0.2222222222222222,
              "#7201a8"
             ],
             [
              0.3333333333333333,
              "#9c179e"
             ],
             [
              0.4444444444444444,
              "#bd3786"
             ],
             [
              0.5555555555555556,
              "#d8576b"
             ],
             [
              0.6666666666666666,
              "#ed7953"
             ],
             [
              0.7777777777777778,
              "#fb9f3a"
             ],
             [
              0.8888888888888888,
              "#fdca26"
             ],
             [
              1,
              "#f0f921"
             ]
            ],
            "type": "heatmapgl"
           }
          ],
          "histogram": [
           {
            "marker": {
             "colorbar": {
              "outlinewidth": 0,
              "ticks": ""
             }
            },
            "type": "histogram"
           }
          ],
          "histogram2d": [
           {
            "colorbar": {
             "outlinewidth": 0,
             "ticks": ""
            },
            "colorscale": [
             [
              0,
              "#0d0887"
             ],
             [
              0.1111111111111111,
              "#46039f"
             ],
             [
              0.2222222222222222,
              "#7201a8"
             ],
             [
              0.3333333333333333,
              "#9c179e"
             ],
             [
              0.4444444444444444,
              "#bd3786"
             ],
             [
              0.5555555555555556,
              "#d8576b"
             ],
             [
              0.6666666666666666,
              "#ed7953"
             ],
             [
              0.7777777777777778,
              "#fb9f3a"
             ],
             [
              0.8888888888888888,
              "#fdca26"
             ],
             [
              1,
              "#f0f921"
             ]
            ],
            "type": "histogram2d"
           }
          ],
          "histogram2dcontour": [
           {
            "colorbar": {
             "outlinewidth": 0,
             "ticks": ""
            },
            "colorscale": [
             [
              0,
              "#0d0887"
             ],
             [
              0.1111111111111111,
              "#46039f"
             ],
             [
              0.2222222222222222,
              "#7201a8"
             ],
             [
              0.3333333333333333,
              "#9c179e"
             ],
             [
              0.4444444444444444,
              "#bd3786"
             ],
             [
              0.5555555555555556,
              "#d8576b"
             ],
             [
              0.6666666666666666,
              "#ed7953"
             ],
             [
              0.7777777777777778,
              "#fb9f3a"
             ],
             [
              0.8888888888888888,
              "#fdca26"
             ],
             [
              1,
              "#f0f921"
             ]
            ],
            "type": "histogram2dcontour"
           }
          ],
          "mesh3d": [
           {
            "colorbar": {
             "outlinewidth": 0,
             "ticks": ""
            },
            "type": "mesh3d"
           }
          ],
          "parcoords": [
           {
            "line": {
             "colorbar": {
              "outlinewidth": 0,
              "ticks": ""
             }
            },
            "type": "parcoords"
           }
          ],
          "pie": [
           {
            "automargin": true,
            "type": "pie"
           }
          ],
          "scatter": [
           {
            "marker": {
             "colorbar": {
              "outlinewidth": 0,
              "ticks": ""
             }
            },
            "type": "scatter"
           }
          ],
          "scatter3d": [
           {
            "line": {
             "colorbar": {
              "outlinewidth": 0,
              "ticks": ""
             }
            },
            "marker": {
             "colorbar": {
              "outlinewidth": 0,
              "ticks": ""
             }
            },
            "type": "scatter3d"
           }
          ],
          "scattercarpet": [
           {
            "marker": {
             "colorbar": {
              "outlinewidth": 0,
              "ticks": ""
             }
            },
            "type": "scattercarpet"
           }
          ],
          "scattergeo": [
           {
            "marker": {
             "colorbar": {
              "outlinewidth": 0,
              "ticks": ""
             }
            },
            "type": "scattergeo"
           }
          ],
          "scattergl": [
           {
            "marker": {
             "colorbar": {
              "outlinewidth": 0,
              "ticks": ""
             }
            },
            "type": "scattergl"
           }
          ],
          "scattermapbox": [
           {
            "marker": {
             "colorbar": {
              "outlinewidth": 0,
              "ticks": ""
             }
            },
            "type": "scattermapbox"
           }
          ],
          "scatterpolar": [
           {
            "marker": {
             "colorbar": {
              "outlinewidth": 0,
              "ticks": ""
             }
            },
            "type": "scatterpolar"
           }
          ],
          "scatterpolargl": [
           {
            "marker": {
             "colorbar": {
              "outlinewidth": 0,
              "ticks": ""
             }
            },
            "type": "scatterpolargl"
           }
          ],
          "scatterternary": [
           {
            "marker": {
             "colorbar": {
              "outlinewidth": 0,
              "ticks": ""
             }
            },
            "type": "scatterternary"
           }
          ],
          "surface": [
           {
            "colorbar": {
             "outlinewidth": 0,
             "ticks": ""
            },
            "colorscale": [
             [
              0,
              "#0d0887"
             ],
             [
              0.1111111111111111,
              "#46039f"
             ],
             [
              0.2222222222222222,
              "#7201a8"
             ],
             [
              0.3333333333333333,
              "#9c179e"
             ],
             [
              0.4444444444444444,
              "#bd3786"
             ],
             [
              0.5555555555555556,
              "#d8576b"
             ],
             [
              0.6666666666666666,
              "#ed7953"
             ],
             [
              0.7777777777777778,
              "#fb9f3a"
             ],
             [
              0.8888888888888888,
              "#fdca26"
             ],
             [
              1,
              "#f0f921"
             ]
            ],
            "type": "surface"
           }
          ],
          "table": [
           {
            "cells": {
             "fill": {
              "color": "#EBF0F8"
             },
             "line": {
              "color": "white"
             }
            },
            "header": {
             "fill": {
              "color": "#C8D4E3"
             },
             "line": {
              "color": "white"
             }
            },
            "type": "table"
           }
          ]
         },
         "layout": {
          "annotationdefaults": {
           "arrowcolor": "#2a3f5f",
           "arrowhead": 0,
           "arrowwidth": 1
          },
          "coloraxis": {
           "colorbar": {
            "outlinewidth": 0,
            "ticks": ""
           }
          },
          "colorscale": {
           "diverging": [
            [
             0,
             "#8e0152"
            ],
            [
             0.1,
             "#c51b7d"
            ],
            [
             0.2,
             "#de77ae"
            ],
            [
             0.3,
             "#f1b6da"
            ],
            [
             0.4,
             "#fde0ef"
            ],
            [
             0.5,
             "#f7f7f7"
            ],
            [
             0.6,
             "#e6f5d0"
            ],
            [
             0.7,
             "#b8e186"
            ],
            [
             0.8,
             "#7fbc41"
            ],
            [
             0.9,
             "#4d9221"
            ],
            [
             1,
             "#276419"
            ]
           ],
           "sequential": [
            [
             0,
             "#0d0887"
            ],
            [
             0.1111111111111111,
             "#46039f"
            ],
            [
             0.2222222222222222,
             "#7201a8"
            ],
            [
             0.3333333333333333,
             "#9c179e"
            ],
            [
             0.4444444444444444,
             "#bd3786"
            ],
            [
             0.5555555555555556,
             "#d8576b"
            ],
            [
             0.6666666666666666,
             "#ed7953"
            ],
            [
             0.7777777777777778,
             "#fb9f3a"
            ],
            [
             0.8888888888888888,
             "#fdca26"
            ],
            [
             1,
             "#f0f921"
            ]
           ],
           "sequentialminus": [
            [
             0,
             "#0d0887"
            ],
            [
             0.1111111111111111,
             "#46039f"
            ],
            [
             0.2222222222222222,
             "#7201a8"
            ],
            [
             0.3333333333333333,
             "#9c179e"
            ],
            [
             0.4444444444444444,
             "#bd3786"
            ],
            [
             0.5555555555555556,
             "#d8576b"
            ],
            [
             0.6666666666666666,
             "#ed7953"
            ],
            [
             0.7777777777777778,
             "#fb9f3a"
            ],
            [
             0.8888888888888888,
             "#fdca26"
            ],
            [
             1,
             "#f0f921"
            ]
           ]
          },
          "colorway": [
           "#636efa",
           "#EF553B",
           "#00cc96",
           "#ab63fa",
           "#FFA15A",
           "#19d3f3",
           "#FF6692",
           "#B6E880",
           "#FF97FF",
           "#FECB52"
          ],
          "font": {
           "color": "#2a3f5f"
          },
          "geo": {
           "bgcolor": "white",
           "lakecolor": "white",
           "landcolor": "#E5ECF6",
           "showlakes": true,
           "showland": true,
           "subunitcolor": "white"
          },
          "hoverlabel": {
           "align": "left"
          },
          "hovermode": "closest",
          "mapbox": {
           "style": "light"
          },
          "paper_bgcolor": "white",
          "plot_bgcolor": "#E5ECF6",
          "polar": {
           "angularaxis": {
            "gridcolor": "white",
            "linecolor": "white",
            "ticks": ""
           },
           "bgcolor": "#E5ECF6",
           "radialaxis": {
            "gridcolor": "white",
            "linecolor": "white",
            "ticks": ""
           }
          },
          "scene": {
           "xaxis": {
            "backgroundcolor": "#E5ECF6",
            "gridcolor": "white",
            "gridwidth": 2,
            "linecolor": "white",
            "showbackground": true,
            "ticks": "",
            "zerolinecolor": "white"
           },
           "yaxis": {
            "backgroundcolor": "#E5ECF6",
            "gridcolor": "white",
            "gridwidth": 2,
            "linecolor": "white",
            "showbackground": true,
            "ticks": "",
            "zerolinecolor": "white"
           },
           "zaxis": {
            "backgroundcolor": "#E5ECF6",
            "gridcolor": "white",
            "gridwidth": 2,
            "linecolor": "white",
            "showbackground": true,
            "ticks": "",
            "zerolinecolor": "white"
           }
          },
          "shapedefaults": {
           "line": {
            "color": "#2a3f5f"
           }
          },
          "ternary": {
           "aaxis": {
            "gridcolor": "white",
            "linecolor": "white",
            "ticks": ""
           },
           "baxis": {
            "gridcolor": "white",
            "linecolor": "white",
            "ticks": ""
           },
           "bgcolor": "#E5ECF6",
           "caxis": {
            "gridcolor": "white",
            "linecolor": "white",
            "ticks": ""
           }
          },
          "title": {
           "x": 0.05
          },
          "xaxis": {
           "automargin": true,
           "gridcolor": "white",
           "linecolor": "white",
           "ticks": "",
           "title": {
            "standoff": 15
           },
           "zerolinecolor": "white",
           "zerolinewidth": 2
          },
          "yaxis": {
           "automargin": true,
           "gridcolor": "white",
           "linecolor": "white",
           "ticks": "",
           "title": {
            "standoff": 15
           },
           "zerolinecolor": "white",
           "zerolinewidth": 2
          }
         }
        },
        "title": {
         "font": {
          "size": 16
         },
         "text": "<br>Domain Sharing among Alexa Top 50 website"
        },
        "xaxis": {
         "showgrid": false,
         "showticklabels": false,
         "zeroline": false
        },
        "yaxis": {
         "showgrid": false,
         "showticklabels": false,
         "zeroline": false
        }
       }
      }
     },
     "metadata": {},
     "output_type": "display_data"
    }
   ],
   "source": [
    "fig = go.Figure(data=[edge_trace, node_trace],\n",
    "             layout=go.Layout(\n",
    "                title='<br>Domain Sharing among Alexa Top 50 website',\n",
    "                titlefont_size=16,\n",
    "                showlegend=False,\n",
    "                hovermode='closest',\n",
    "                margin=dict(b=20,l=5,r=5,t=40),\n",
    "                # annotations=[ dict(\n",
    "                #     text=\"Python code: <a href='https://plot.ly/ipython-notebooks/network-graphs/'> https://plot.ly/ipython-notebooks/network-graphs/</a>\",\n",
    "                #     showarrow=False,\n",
    "                #     xref=\"paper\", yref=\"paper\",\n",
    "                #     x=0.005, y=-0.002 ) ],\n",
    "                xaxis=dict(showgrid=False, zeroline=False, showticklabels=False),\n",
    "                yaxis=dict(showgrid=False, zeroline=False, showticklabels=False))\n",
    "                )\n",
    "fig.show()"
   ]
  },
  {
   "cell_type": "code",
   "execution_count": null,
   "metadata": {},
   "outputs": [],
   "source": []
  }
 ]
}